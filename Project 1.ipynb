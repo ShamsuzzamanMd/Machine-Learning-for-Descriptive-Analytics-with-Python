{
 "cells": [
  {
   "cell_type": "markdown",
   "metadata": {},
   "source": [
    "# Initialization!"
   ]
  },
  {
   "cell_type": "code",
   "execution_count": 1,
   "metadata": {},
   "outputs": [],
   "source": [
    "import pandas as pd\n",
    "import numpy as np\n",
    "%matplotlib inline\n",
    "import pandas as pd\n",
    "import matplotlib.pyplot as plt\n",
    "import numpy as np\n",
    "\n",
    "from matplotlib import rc\n",
    "from sklearn import preprocessing\n",
    "from sklearn.model_selection import train_test_split\n",
    "from sklearn.pipeline import make_pipeline,Pipeline\n",
    "from sklearn.model_selection import GridSearchCV\n",
    "from sklearn.preprocessing import StandardScaler\n",
    "from sklearn.decomposition import PCA\n",
    "from sklearn.ensemble import RandomForestClassifier\n",
    "from sklearn.metrics import mean_squared_error\n",
    "\n",
    "import warnings\n",
    "warnings.filterwarnings(\"ignore\")"
   ]
  },
  {
   "cell_type": "code",
   "execution_count": 2,
   "metadata": {},
   "outputs": [
    {
     "data": {
      "text/html": [
       "<div>\n",
       "<style scoped>\n",
       "    .dataframe tbody tr th:only-of-type {\n",
       "        vertical-align: middle;\n",
       "    }\n",
       "\n",
       "    .dataframe tbody tr th {\n",
       "        vertical-align: top;\n",
       "    }\n",
       "\n",
       "    .dataframe thead th {\n",
       "        text-align: right;\n",
       "    }\n",
       "</style>\n",
       "<table border=\"1\" class=\"dataframe\">\n",
       "  <thead>\n",
       "    <tr style=\"text-align: right;\">\n",
       "      <th></th>\n",
       "      <th>id</th>\n",
       "      <th>user_id</th>\n",
       "      <th>datestamp</th>\n",
       "      <th>r</th>\n",
       "      <th>g</th>\n",
       "      <th>b</th>\n",
       "      <th>colorname</th>\n",
       "    </tr>\n",
       "  </thead>\n",
       "  <tbody>\n",
       "    <tr>\n",
       "      <th>0</th>\n",
       "      <td>1</td>\n",
       "      <td>1</td>\n",
       "      <td>1.267419e+09</td>\n",
       "      <td>72</td>\n",
       "      <td>100</td>\n",
       "      <td>175</td>\n",
       "      <td>pastel blue</td>\n",
       "    </tr>\n",
       "    <tr>\n",
       "      <th>1</th>\n",
       "      <td>2</td>\n",
       "      <td>1</td>\n",
       "      <td>1.267419e+09</td>\n",
       "      <td>204</td>\n",
       "      <td>177</td>\n",
       "      <td>246</td>\n",
       "      <td>faint violet</td>\n",
       "    </tr>\n",
       "    <tr>\n",
       "      <th>2</th>\n",
       "      <td>3</td>\n",
       "      <td>1</td>\n",
       "      <td>1.267419e+09</td>\n",
       "      <td>182</td>\n",
       "      <td>226</td>\n",
       "      <td>245</td>\n",
       "      <td>baby blue</td>\n",
       "    </tr>\n",
       "    <tr>\n",
       "      <th>3</th>\n",
       "      <td>4</td>\n",
       "      <td>1</td>\n",
       "      <td>1.267419e+09</td>\n",
       "      <td>130</td>\n",
       "      <td>64</td>\n",
       "      <td>234</td>\n",
       "      <td>purple</td>\n",
       "    </tr>\n",
       "    <tr>\n",
       "      <th>4</th>\n",
       "      <td>5</td>\n",
       "      <td>2</td>\n",
       "      <td>1.267419e+09</td>\n",
       "      <td>75</td>\n",
       "      <td>49</td>\n",
       "      <td>234</td>\n",
       "      <td>blue</td>\n",
       "    </tr>\n",
       "  </tbody>\n",
       "</table>\n",
       "</div>"
      ],
      "text/plain": [
       "   id  user_id     datestamp    r    g    b     colorname\n",
       "0   1        1  1.267419e+09   72  100  175   pastel blue\n",
       "1   2        1  1.267419e+09  204  177  246  faint violet\n",
       "2   3        1  1.267419e+09  182  226  245     baby blue\n",
       "3   4        1  1.267419e+09  130   64  234        purple\n",
       "4   5        2  1.267419e+09   75   49  234          blue"
      ]
     },
     "execution_count": 2,
     "metadata": {},
     "output_type": "execute_result"
    }
   ],
   "source": [
    "data= pd.read_csv(\"color_survey_answers.csv\",  sep='\\t')\n",
    "data.head()"
   ]
  },
  {
   "cell_type": "code",
   "execution_count": 3,
   "metadata": {},
   "outputs": [
    {
     "data": {
      "text/plain": [
       "Index(['id', 'user_id', 'datestamp', 'r', 'g', 'b', 'colorname'], dtype='object')"
      ]
     },
     "execution_count": 3,
     "metadata": {},
     "output_type": "execute_result"
    }
   ],
   "source": [
    "data.columns"
   ]
  },
  {
   "cell_type": "code",
   "execution_count": 4,
   "metadata": {},
   "outputs": [
    {
     "name": "stdout",
     "output_type": "stream",
     "text": [
      "<class 'pandas.core.frame.DataFrame'>\n",
      "RangeIndex: 3363127 entries, 0 to 3363126\n",
      "Data columns (total 7 columns):\n",
      "id           int64\n",
      "user_id      int64\n",
      "datestamp    float64\n",
      "r            int64\n",
      "g            int64\n",
      "b            int64\n",
      "colorname    object\n",
      "dtypes: float64(1), int64(5), object(1)\n",
      "memory usage: 179.6+ MB\n"
     ]
    }
   ],
   "source": [
    "data.info()"
   ]
  },
  {
   "cell_type": "code",
   "execution_count": 5,
   "metadata": {},
   "outputs": [
    {
     "name": "stdout",
     "output_type": "stream",
     "text": [
      "1734\n"
     ]
    }
   ],
   "source": [
    "# Conversion to datetime\n",
    "from datetime import datetime\n",
    "data['datestamp'] = pd.to_datetime(data['datestamp'],unit='s')\n",
    "# to check the null value in the dataset\n",
    "print(data.isnull().values.sum())"
   ]
  },
  {
   "cell_type": "code",
   "execution_count": 6,
   "metadata": {},
   "outputs": [],
   "source": [
    "data = data.fillna({\"colorname\": \"green\"}) # Missing values fill\n",
    "\n",
    "# Extraction to new \n",
    "new = data[data['colorname'] == 'impatiens juice'].copy()\n",
    "new = data[data['colorname'] == 'caribbean surf'].append(new)\n",
    "new = data[data['colorname'] == 'medium tan leather'].append(new)\n",
    "new = data[data['colorname'] == 'babypoo'].append(new)"
   ]
  },
  {
   "cell_type": "code",
   "execution_count": 7,
   "metadata": {},
   "outputs": [
    {
     "name": "stdout",
     "output_type": "stream",
     "text": [
      "<class 'pandas.core.frame.DataFrame'>\n",
      "Int64Index: 8 entries, 185291 to 3170468\n",
      "Data columns (total 7 columns):\n",
      "id           8 non-null int64\n",
      "user_id      8 non-null int64\n",
      "datestamp    8 non-null datetime64[ns]\n",
      "r            8 non-null int64\n",
      "g            8 non-null int64\n",
      "b            8 non-null int64\n",
      "colorname    8 non-null object\n",
      "dtypes: datetime64[ns](1), int64(5), object(1)\n",
      "memory usage: 512.0+ bytes\n"
     ]
    }
   ],
   "source": [
    "new.info()"
   ]
  },
  {
   "cell_type": "code",
   "execution_count": 8,
   "metadata": {},
   "outputs": [
    {
     "name": "stdout",
     "output_type": "stream",
     "text": [
      "<class 'pandas.core.frame.DataFrame'>\n",
      "Int64Index: 168 entries, 185291 to 3170468\n",
      "Data columns (total 7 columns):\n",
      "id           168 non-null int64\n",
      "user_id      168 non-null int64\n",
      "datestamp    168 non-null datetime64[ns]\n",
      "r            168 non-null int64\n",
      "g            168 non-null int64\n",
      "b            168 non-null int64\n",
      "colorname    168 non-null object\n",
      "dtypes: datetime64[ns](1), int64(5), object(1)\n",
      "memory usage: 10.5+ KB\n"
     ]
    }
   ],
   "source": [
    "# More occurance\n",
    "new = new.append([new]*20)\n",
    "new.info()"
   ]
  },
  {
   "cell_type": "code",
   "execution_count": 9,
   "metadata": {},
   "outputs": [],
   "source": [
    "# New color set\n",
    "data = pd.concat([data,new],ignore_index=True)\n",
    "#data['colorname'].value_counts()\n",
    "# Shuffling for equal distribution\n",
    "data= data.sample(frac = 1,random_state= 10).reset_index(drop = True)"
   ]
  },
  {
   "cell_type": "code",
   "execution_count": 10,
   "metadata": {},
   "outputs": [
    {
     "name": "stdout",
     "output_type": "stream",
     "text": [
      "(526, 7)\n"
     ]
    }
   ],
   "source": [
    "m= data['colorname'].value_counts()\n",
    "n=dict(m)\n",
    "p=list(n.keys())\n",
    "N=100\n",
    "sub_data=data[data.colorname.isin(p[:N])]\n",
    "print(sub_data.shape)"
   ]
  },
  {
   "cell_type": "markdown",
   "metadata": {},
   "source": [
    "# On_hot_encoding"
   ]
  },
  {
   "cell_type": "code",
   "execution_count": 11,
   "metadata": {},
   "outputs": [
    {
     "name": "stdout",
     "output_type": "stream",
     "text": [
      "(526, 106)\n"
     ]
    }
   ],
   "source": [
    "demo_data=pd.get_dummies(sub_data, columns=[\"colorname\"])\n",
    "print(demo_data.shape) "
   ]
  },
  {
   "cell_type": "code",
   "execution_count": 12,
   "metadata": {},
   "outputs": [
    {
     "data": {
      "text/html": [
       "<div>\n",
       "<style scoped>\n",
       "    .dataframe tbody tr th:only-of-type {\n",
       "        vertical-align: middle;\n",
       "    }\n",
       "\n",
       "    .dataframe tbody tr th {\n",
       "        vertical-align: top;\n",
       "    }\n",
       "\n",
       "    .dataframe thead th {\n",
       "        text-align: right;\n",
       "    }\n",
       "</style>\n",
       "<table border=\"1\" class=\"dataframe\">\n",
       "  <thead>\n",
       "    <tr style=\"text-align: right;\">\n",
       "      <th></th>\n",
       "      <th>id</th>\n",
       "      <th>user_id</th>\n",
       "      <th>datestamp</th>\n",
       "      <th>r</th>\n",
       "      <th>g</th>\n",
       "      <th>b</th>\n",
       "      <th>colorname_ taupe</th>\n",
       "      <th>colorname_#1040cc</th>\n",
       "      <th>colorname_#3e83b8</th>\n",
       "      <th>colorname_#cc00aa</th>\n",
       "      <th>...</th>\n",
       "      <th>colorname_tickle me dead</th>\n",
       "      <th>colorname_torn licorice</th>\n",
       "      <th>colorname_tosca green</th>\n",
       "      <th>colorname_uggh</th>\n",
       "      <th>colorname_undernail</th>\n",
       "      <th>colorname_understated antagonism</th>\n",
       "      <th>colorname_undisclosed green</th>\n",
       "      <th>colorname_vegan</th>\n",
       "      <th>colorname_verde scuro</th>\n",
       "      <th>colorname_wicked</th>\n",
       "    </tr>\n",
       "  </thead>\n",
       "  <tbody>\n",
       "    <tr>\n",
       "      <th>2346</th>\n",
       "      <td>2916536</td>\n",
       "      <td>130335</td>\n",
       "      <td>2010-03-26 13:27:35</td>\n",
       "      <td>205</td>\n",
       "      <td>221</td>\n",
       "      <td>195</td>\n",
       "      <td>0</td>\n",
       "      <td>0</td>\n",
       "      <td>0</td>\n",
       "      <td>0</td>\n",
       "      <td>...</td>\n",
       "      <td>0</td>\n",
       "      <td>0</td>\n",
       "      <td>0</td>\n",
       "      <td>0</td>\n",
       "      <td>0</td>\n",
       "      <td>0</td>\n",
       "      <td>0</td>\n",
       "      <td>0</td>\n",
       "      <td>0</td>\n",
       "      <td>0</td>\n",
       "    </tr>\n",
       "    <tr>\n",
       "      <th>5704</th>\n",
       "      <td>1923396</td>\n",
       "      <td>87255</td>\n",
       "      <td>2010-03-13 13:58:04</td>\n",
       "      <td>108</td>\n",
       "      <td>45</td>\n",
       "      <td>185</td>\n",
       "      <td>0</td>\n",
       "      <td>0</td>\n",
       "      <td>0</td>\n",
       "      <td>0</td>\n",
       "      <td>...</td>\n",
       "      <td>0</td>\n",
       "      <td>0</td>\n",
       "      <td>0</td>\n",
       "      <td>0</td>\n",
       "      <td>0</td>\n",
       "      <td>0</td>\n",
       "      <td>0</td>\n",
       "      <td>0</td>\n",
       "      <td>0</td>\n",
       "      <td>0</td>\n",
       "    </tr>\n",
       "    <tr>\n",
       "      <th>11174</th>\n",
       "      <td>3037270</td>\n",
       "      <td>135373</td>\n",
       "      <td>2010-03-28 22:24:35</td>\n",
       "      <td>79</td>\n",
       "      <td>217</td>\n",
       "      <td>101</td>\n",
       "      <td>0</td>\n",
       "      <td>0</td>\n",
       "      <td>0</td>\n",
       "      <td>0</td>\n",
       "      <td>...</td>\n",
       "      <td>0</td>\n",
       "      <td>0</td>\n",
       "      <td>0</td>\n",
       "      <td>0</td>\n",
       "      <td>0</td>\n",
       "      <td>0</td>\n",
       "      <td>0</td>\n",
       "      <td>0</td>\n",
       "      <td>0</td>\n",
       "      <td>0</td>\n",
       "    </tr>\n",
       "    <tr>\n",
       "      <th>34760</th>\n",
       "      <td>797841</td>\n",
       "      <td>36734</td>\n",
       "      <td>2010-03-04 00:42:16</td>\n",
       "      <td>175</td>\n",
       "      <td>206</td>\n",
       "      <td>77</td>\n",
       "      <td>0</td>\n",
       "      <td>0</td>\n",
       "      <td>0</td>\n",
       "      <td>0</td>\n",
       "      <td>...</td>\n",
       "      <td>0</td>\n",
       "      <td>0</td>\n",
       "      <td>0</td>\n",
       "      <td>0</td>\n",
       "      <td>0</td>\n",
       "      <td>0</td>\n",
       "      <td>0</td>\n",
       "      <td>0</td>\n",
       "      <td>0</td>\n",
       "      <td>0</td>\n",
       "    </tr>\n",
       "    <tr>\n",
       "      <th>34859</th>\n",
       "      <td>387591</td>\n",
       "      <td>18512</td>\n",
       "      <td>2010-03-02 14:08:01</td>\n",
       "      <td>146</td>\n",
       "      <td>240</td>\n",
       "      <td>131</td>\n",
       "      <td>0</td>\n",
       "      <td>0</td>\n",
       "      <td>0</td>\n",
       "      <td>0</td>\n",
       "      <td>...</td>\n",
       "      <td>0</td>\n",
       "      <td>0</td>\n",
       "      <td>0</td>\n",
       "      <td>0</td>\n",
       "      <td>0</td>\n",
       "      <td>0</td>\n",
       "      <td>0</td>\n",
       "      <td>0</td>\n",
       "      <td>0</td>\n",
       "      <td>0</td>\n",
       "    </tr>\n",
       "  </tbody>\n",
       "</table>\n",
       "<p>5 rows × 106 columns</p>\n",
       "</div>"
      ],
      "text/plain": [
       "            id  user_id           datestamp    r    g    b  colorname_ taupe  \\\n",
       "2346   2916536   130335 2010-03-26 13:27:35  205  221  195                 0   \n",
       "5704   1923396    87255 2010-03-13 13:58:04  108   45  185                 0   \n",
       "11174  3037270   135373 2010-03-28 22:24:35   79  217  101                 0   \n",
       "34760   797841    36734 2010-03-04 00:42:16  175  206   77                 0   \n",
       "34859   387591    18512 2010-03-02 14:08:01  146  240  131                 0   \n",
       "\n",
       "       colorname_#1040cc  colorname_#3e83b8  colorname_#cc00aa  \\\n",
       "2346                   0                  0                  0   \n",
       "5704                   0                  0                  0   \n",
       "11174                  0                  0                  0   \n",
       "34760                  0                  0                  0   \n",
       "34859                  0                  0                  0   \n",
       "\n",
       "             ...         colorname_tickle me dead  colorname_torn licorice  \\\n",
       "2346         ...                                0                        0   \n",
       "5704         ...                                0                        0   \n",
       "11174        ...                                0                        0   \n",
       "34760        ...                                0                        0   \n",
       "34859        ...                                0                        0   \n",
       "\n",
       "       colorname_tosca green  colorname_uggh  colorname_undernail  \\\n",
       "2346                       0               0                    0   \n",
       "5704                       0               0                    0   \n",
       "11174                      0               0                    0   \n",
       "34760                      0               0                    0   \n",
       "34859                      0               0                    0   \n",
       "\n",
       "       colorname_understated antagonism  colorname_undisclosed green  \\\n",
       "2346                                  0                            0   \n",
       "5704                                  0                            0   \n",
       "11174                                 0                            0   \n",
       "34760                                 0                            0   \n",
       "34859                                 0                            0   \n",
       "\n",
       "       colorname_vegan  colorname_verde scuro  colorname_wicked  \n",
       "2346                 0                      0                 0  \n",
       "5704                 0                      0                 0  \n",
       "11174                0                      0                 0  \n",
       "34760                0                      0                 0  \n",
       "34859                0                      0                 0  \n",
       "\n",
       "[5 rows x 106 columns]"
      ]
     },
     "execution_count": 12,
     "metadata": {},
     "output_type": "execute_result"
    }
   ],
   "source": [
    "demo_data.head()"
   ]
  },
  {
   "cell_type": "code",
   "execution_count": 13,
   "metadata": {},
   "outputs": [],
   "source": [
    "# Features and Targets\n",
    "y = demo_data.iloc[:,6:].values\n",
    "X = demo_data.iloc[:,3:6].values"
   ]
  },
  {
   "cell_type": "code",
   "execution_count": 14,
   "metadata": {
    "scrolled": false
   },
   "outputs": [],
   "source": [
    "# Train and Test\n",
    "X_train, X_test, y_train, y_test = train_test_split(X, y, test_size = 0.33, random_state = 0)"
   ]
  },
  {
   "cell_type": "code",
   "execution_count": 15,
   "metadata": {},
   "outputs": [
    {
     "name": "stdout",
     "output_type": "stream",
     "text": [
      "Test_Accuracy: 0.60\n",
      "Train_Accuracy: 1.00\n"
     ]
    }
   ],
   "source": [
    "from sklearn.tree import DecisionTreeClassifier\n",
    "clf = DecisionTreeClassifier(random_state=0)\n",
    "clf.fit(X_train, y_train)\n",
    "\n",
    "print(\"Test_Accuracy: {:.2f}\".format(clf.score(X_test, y_test)))\n",
    "print(\"Train_Accuracy: {:.2f}\".format(clf.score(X_train, y_train)))"
   ]
  },
  {
   "cell_type": "code",
   "execution_count": 16,
   "metadata": {},
   "outputs": [],
   "source": [
    "k=np.array([100,220,236]).reshape(1,-1)\n",
    "color_list=list(demo_data.columns[6:].values)\n",
    "pred = clf.predict(k)\n",
    "idx= pred.tolist()[0].index(1,0)"
   ]
  },
  {
   "cell_type": "markdown",
   "metadata": {},
   "source": [
    "# Custom binary encoding"
   ]
  },
  {
   "cell_type": "code",
   "execution_count": 17,
   "metadata": {},
   "outputs": [],
   "source": [
    "data['color_green'] = np.where(data['colorname'].str.contains('green'), 1, 0)\n",
    "data['color_red'] = np.where(data['colorname'].str.contains('red'), 1, 0)\n",
    "data['color_pink'] = np.where(data['colorname'].str.contains('pink'), 1, 0)\n",
    "data['color_blue'] = np.where(data['colorname'].str.contains('blue'), 1, 0)\n",
    "data['color_orange'] = np.where(data['colorname'].str.contains('orange'), 1, 0)\n",
    "data['color_yellow'] = np.where(data['colorname'].str.contains('yellow'), 1, 0)\n",
    "data['color_purple'] = np.where(data['colorname'].str.contains('purple'), 1, 0)\n",
    "data['color_tan'] = np.where(data['colorname'].str.contains('tan'), 1, 0)"
   ]
  },
  {
   "cell_type": "code",
   "execution_count": 18,
   "metadata": {
    "scrolled": true
   },
   "outputs": [
    {
     "data": {
      "text/html": [
       "<div>\n",
       "<style scoped>\n",
       "    .dataframe tbody tr th:only-of-type {\n",
       "        vertical-align: middle;\n",
       "    }\n",
       "\n",
       "    .dataframe tbody tr th {\n",
       "        vertical-align: top;\n",
       "    }\n",
       "\n",
       "    .dataframe thead th {\n",
       "        text-align: right;\n",
       "    }\n",
       "</style>\n",
       "<table border=\"1\" class=\"dataframe\">\n",
       "  <thead>\n",
       "    <tr style=\"text-align: right;\">\n",
       "      <th></th>\n",
       "      <th>id</th>\n",
       "      <th>user_id</th>\n",
       "      <th>datestamp</th>\n",
       "      <th>r</th>\n",
       "      <th>g</th>\n",
       "      <th>b</th>\n",
       "      <th>colorname</th>\n",
       "      <th>color_green</th>\n",
       "      <th>color_red</th>\n",
       "      <th>color_pink</th>\n",
       "      <th>color_blue</th>\n",
       "      <th>color_orange</th>\n",
       "      <th>color_yellow</th>\n",
       "      <th>color_purple</th>\n",
       "      <th>color_tan</th>\n",
       "    </tr>\n",
       "  </thead>\n",
       "  <tbody>\n",
       "    <tr>\n",
       "      <th>0</th>\n",
       "      <td>2102379</td>\n",
       "      <td>95339</td>\n",
       "      <td>2010-03-15 21:30:48</td>\n",
       "      <td>99</td>\n",
       "      <td>23</td>\n",
       "      <td>111</td>\n",
       "      <td>purple</td>\n",
       "      <td>0</td>\n",
       "      <td>0</td>\n",
       "      <td>0</td>\n",
       "      <td>0</td>\n",
       "      <td>0</td>\n",
       "      <td>0</td>\n",
       "      <td>1</td>\n",
       "      <td>0</td>\n",
       "    </tr>\n",
       "    <tr>\n",
       "      <th>1</th>\n",
       "      <td>4130</td>\n",
       "      <td>166</td>\n",
       "      <td>2010-03-01 06:31:11</td>\n",
       "      <td>191</td>\n",
       "      <td>81</td>\n",
       "      <td>74</td>\n",
       "      <td>salmony-pink</td>\n",
       "      <td>0</td>\n",
       "      <td>0</td>\n",
       "      <td>1</td>\n",
       "      <td>0</td>\n",
       "      <td>0</td>\n",
       "      <td>0</td>\n",
       "      <td>0</td>\n",
       "      <td>0</td>\n",
       "    </tr>\n",
       "    <tr>\n",
       "      <th>2</th>\n",
       "      <td>2644842</td>\n",
       "      <td>118740</td>\n",
       "      <td>2010-03-22 18:33:06</td>\n",
       "      <td>198</td>\n",
       "      <td>128</td>\n",
       "      <td>109</td>\n",
       "      <td>red tan</td>\n",
       "      <td>0</td>\n",
       "      <td>1</td>\n",
       "      <td>0</td>\n",
       "      <td>0</td>\n",
       "      <td>0</td>\n",
       "      <td>0</td>\n",
       "      <td>0</td>\n",
       "      <td>1</td>\n",
       "    </tr>\n",
       "    <tr>\n",
       "      <th>3</th>\n",
       "      <td>2405676</td>\n",
       "      <td>108250</td>\n",
       "      <td>2010-03-19 06:33:03</td>\n",
       "      <td>55</td>\n",
       "      <td>34</td>\n",
       "      <td>6</td>\n",
       "      <td>black</td>\n",
       "      <td>0</td>\n",
       "      <td>0</td>\n",
       "      <td>0</td>\n",
       "      <td>0</td>\n",
       "      <td>0</td>\n",
       "      <td>0</td>\n",
       "      <td>0</td>\n",
       "      <td>0</td>\n",
       "    </tr>\n",
       "    <tr>\n",
       "      <th>4</th>\n",
       "      <td>2384434</td>\n",
       "      <td>107334</td>\n",
       "      <td>2010-03-19 02:44:38</td>\n",
       "      <td>166</td>\n",
       "      <td>132</td>\n",
       "      <td>201</td>\n",
       "      <td>joy''s headband</td>\n",
       "      <td>0</td>\n",
       "      <td>0</td>\n",
       "      <td>0</td>\n",
       "      <td>0</td>\n",
       "      <td>0</td>\n",
       "      <td>0</td>\n",
       "      <td>0</td>\n",
       "      <td>0</td>\n",
       "    </tr>\n",
       "  </tbody>\n",
       "</table>\n",
       "</div>"
      ],
      "text/plain": [
       "        id  user_id           datestamp    r    g    b        colorname  \\\n",
       "0  2102379    95339 2010-03-15 21:30:48   99   23  111           purple   \n",
       "1     4130      166 2010-03-01 06:31:11  191   81   74     salmony-pink   \n",
       "2  2644842   118740 2010-03-22 18:33:06  198  128  109          red tan   \n",
       "3  2405676   108250 2010-03-19 06:33:03   55   34    6            black   \n",
       "4  2384434   107334 2010-03-19 02:44:38  166  132  201  joy''s headband   \n",
       "\n",
       "   color_green  color_red  color_pink  color_blue  color_orange  color_yellow  \\\n",
       "0            0          0           0           0             0             0   \n",
       "1            0          0           1           0             0             0   \n",
       "2            0          1           0           0             0             0   \n",
       "3            0          0           0           0             0             0   \n",
       "4            0          0           0           0             0             0   \n",
       "\n",
       "   color_purple  color_tan  \n",
       "0             1          0  \n",
       "1             0          0  \n",
       "2             0          1  \n",
       "3             0          0  \n",
       "4             0          0  "
      ]
     },
     "execution_count": 18,
     "metadata": {},
     "output_type": "execute_result"
    }
   ],
   "source": [
    "data.head()"
   ]
  },
  {
   "cell_type": "code",
   "execution_count": 19,
   "metadata": {},
   "outputs": [
    {
     "data": {
      "text/plain": [
       "Index(['id', 'user_id', 'datestamp', 'r', 'g', 'b', 'colorname', 'color_green',\n",
       "       'color_red', 'color_pink', 'color_blue', 'color_orange', 'color_yellow',\n",
       "       'color_purple', 'color_tan'],\n",
       "      dtype='object')"
      ]
     },
     "execution_count": 19,
     "metadata": {},
     "output_type": "execute_result"
    }
   ],
   "source": [
    "data.columns"
   ]
  },
  {
   "cell_type": "code",
   "execution_count": 20,
   "metadata": {},
   "outputs": [],
   "source": [
    "m= data['colorname'].value_counts()\n",
    "n=dict(m)\n",
    "p=list(n.keys())\n",
    "N=100\n",
    "data_custom=data[data.colorname.isin(p[:N])]"
   ]
  },
  {
   "cell_type": "code",
   "execution_count": 21,
   "metadata": {},
   "outputs": [
    {
     "data": {
      "text/plain": [
       "DecisionTreeClassifier(class_weight=None, criterion='gini', max_depth=None,\n",
       "            max_features=None, max_leaf_nodes=None,\n",
       "            min_impurity_decrease=0.0, min_impurity_split=None,\n",
       "            min_samples_leaf=1, min_samples_split=2,\n",
       "            min_weight_fraction_leaf=0.0, presort=False, random_state=0,\n",
       "            splitter='best')"
      ]
     },
     "execution_count": 21,
     "metadata": {},
     "output_type": "execute_result"
    }
   ],
   "source": [
    "# Features and Target\n",
    "y = data_custom.iloc[:,7:].values\n",
    "X = data_custom.iloc[:,3:6].values\n",
    "# Train Test\n",
    "X_train, X_test, y_train, y_test = train_test_split(X, y, test_size = 0.33, random_state = 0)\n",
    "clf = DecisionTreeClassifier(random_state=0)\n",
    "clf.fit(X_train, y_train)"
   ]
  },
  {
   "cell_type": "code",
   "execution_count": 22,
   "metadata": {},
   "outputs": [
    {
     "name": "stdout",
     "output_type": "stream",
     "text": [
      "Test_Accuracy: 0.74\n",
      "Train_Accuracy: 1.00\n"
     ]
    }
   ],
   "source": [
    "print(\"Test_Accuracy: {:.2f}\".format(clf.score(X_test, y_test)))\n",
    "print(\"Train_Accuracy: {:.2f}\".format(clf.score(X_train, y_train)))"
   ]
  },
  {
   "cell_type": "code",
   "execution_count": 24,
   "metadata": {},
   "outputs": [],
   "source": [
    "k=np.array([102,226,245]).reshape(1,-1)\n",
    "colorlist=list(data_custom.columns[7:].values)\n",
    "prediction = clf.predict(k)"
   ]
  },
  {
   "cell_type": "markdown",
   "metadata": {},
   "source": [
    "# Accuracy\n",
    "On hot encoding : 0.60 (Test accuracy)\n",
    "Custom Binary : 0.74 (Test Accuracy)"
   ]
  }
 ],
 "metadata": {
  "kernelspec": {
   "display_name": "Python 3",
   "language": "python",
   "name": "python3"
  },
  "language_info": {
   "codemirror_mode": {
    "name": "ipython",
    "version": 3
   },
   "file_extension": ".py",
   "mimetype": "text/x-python",
   "name": "python",
   "nbconvert_exporter": "python",
   "pygments_lexer": "ipython3",
   "version": "3.5.6"
  }
 },
 "nbformat": 4,
 "nbformat_minor": 2
}
